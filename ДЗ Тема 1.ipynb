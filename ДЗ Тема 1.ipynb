{
  "nbformat": 4,
  "nbformat_minor": 0,
  "metadata": {
    "colab": {
      "provenance": [],
      "mount_file_id": "1zsi6LNMZ4fgxlxmClRJWzQxrF2dXdetb",
      "authorship_tag": "ABX9TyOjn1JpDwKu82Z5Cxjd6oZv",
      "include_colab_link": true
    },
    "kernelspec": {
      "name": "python3",
      "display_name": "Python 3"
    },
    "language_info": {
      "name": "python"
    }
  },
  "cells": [
    {
      "cell_type": "markdown",
      "metadata": {
        "id": "view-in-github",
        "colab_type": "text"
      },
      "source": [
        "<a href=\"https://colab.research.google.com/github/andrekur/how-to-learn/blob/main/%D0%94%D0%97%20%D0%A2%D0%B5%D0%BC%D0%B0%201.ipynb\" target=\"_parent\"><img src=\"https://colab.research.google.com/assets/colab-badge.svg\" alt=\"Open In Colab\"/></a>"
      ]
    },
    {
      "cell_type": "code",
      "execution_count": 27,
      "metadata": {
        "colab": {
          "base_uri": "https://localhost:8080/"
        },
        "id": "dYYzrwL8gD5R",
        "outputId": "6210b4d9-bb54-424f-b3a3-879a18e9dfe7"
      },
      "outputs": [
        {
          "output_type": "stream",
          "name": "stdout",
          "text": [
            "Первые 10 записей (без гарантии порядка)\n",
            "1840e0b9d4 Продукты\n",
            "4e4f90fcfb Электроника\n",
            "afea8d72fc Электроника\n",
            "373a6055fe Бытовая техника\n",
            "9b2ab046f3 Электроника\n",
            "9f39d307c3 Электроника\n",
            "44edeffc91 Продукты\n",
            "704474fa2d Продукты\n",
            "1de31be403 Бытовая техника\n",
            "b71f36a5e4 Продукты\n"
          ]
        }
      ],
      "source": [
        "import json\n",
        "\n",
        "FILE_PATH = './drive/MyDrive/she_hw_de_files/'\n",
        "FILE_NAME_INPUT_1 = 'purchase_log.txt'\n",
        "FILE_NAME_INPUT_2 = 'visit_log.csv'\n",
        "FILE_NAME_RESULT = ' funnel.csv'\n",
        "\n",
        "purchases = {}\n",
        "\n",
        "with open(f'{FILE_PATH}{FILE_NAME_INPUT_1}', 'r') as file:\n",
        "  headers = file.readline()\n",
        "  for line in file:\n",
        "    _json_obj = json.loads(line)\n",
        "    purchases[_json_obj['user_id']] = _json_obj['category']\n",
        "\n",
        "  count_row = 10\n",
        "  print('Первые 10 записей (без гарантии порядка)')\n",
        "  for key, val in purchases.items():\n",
        "    print(f'{key} {val}')\n",
        "    count_row -= 1\n",
        "    if count_row == 0:\n",
        "      break\n"
      ]
    },
    {
      "cell_type": "code",
      "source": [
        "import csv\n",
        "\n",
        "with open(f'{FILE_PATH}{FILE_NAME_RESULT}', 'w') as result_file:\n",
        "  result_csv_writer = csv.writer(result_file)\n",
        "  result_csv_writer.writerow(['user_id', 'source', 'purchase_category'])\n",
        "  with open(f'{FILE_PATH}{FILE_NAME_INPUT_2}', 'r') as file:\n",
        "    headers = file.readline()\n",
        "    for line in file:\n",
        "        user_id, source = map(lambda x: str(x).strip(), line.split(';'))\n",
        "        purchase_category = purchases.get(user_id)\n",
        "        if purchase_category:\n",
        "            result_csv_writer.writerow([user_id, source, purchase_category])\n",
        "\n",
        "\n",
        "with open(f'{FILE_PATH}{FILE_NAME_RESULT}', 'r') as result_file:\n",
        "  result_csv_rider = csv.reader(result_file, delimiter=',', quotechar=',',\n",
        "                        quoting=csv.QUOTE_MINIMAL)\n",
        "\n",
        "  count_row = 10\n",
        "  print('Первые 10 записей')\n",
        "  while count_row != 0:\n",
        "    print(' '.join([*next(result_csv_rider)]))\n",
        "    count_row -= 1\n"
      ],
      "metadata": {
        "id": "8-LIKhHmXJBm",
        "colab": {
          "base_uri": "https://localhost:8080/"
        },
        "outputId": "207ddece-eb89-4515-bfb4-060a1aaa04b4"
      },
      "execution_count": 22,
      "outputs": [
        {
          "output_type": "stream",
          "name": "stdout",
          "text": [
            "Первые 10 записей\n",
            "user_id source purchase_category\n",
            "1840e0b9d4 other Продукты\n",
            "4e4f90fcfb context Электроника\n",
            "afea8d72fc other Электроника\n",
            "2824221f38 email Продукты\n",
            "373a6055fe other Бытовая техника\n",
            "9b2ab046f3 other Электроника\n",
            "9f39d307c3 context Электроника\n",
            "44edeffc91 context Продукты\n",
            "704474fa2d other Продукты\n"
          ]
        }
      ]
    }
  ]
}